{
 "cells": [
  {
   "cell_type": "code",
   "execution_count": 1,
   "id": "a0995534-20ca-4147-a505-1a692e064662",
   "metadata": {},
   "outputs": [],
   "source": [
    "## First, you need to download archive files:\n",
    "##  https://arctic-shift.photon-reddit.com/download-tool\n",
    "import json\n",
    "import re\n",
    "import pandas as pd"
   ]
  },
  {
   "cell_type": "code",
   "execution_count": 2,
   "id": "2d20d5fc-d6b5-49a0-aee5-51d75ab1f0f7",
   "metadata": {},
   "outputs": [],
   "source": [
    "# Load jsonl (\"json lines\") file format into a list\n",
    "def load_jsonl_to_list(fname):\n",
    "    data = []\n",
    "    with open(fname) as file:\n",
    "        for line in file:\n",
    "            data.append(json.loads(line))\n",
    "    return data"
   ]
  },
  {
   "cell_type": "code",
   "execution_count": 3,
   "id": "72080702-f940-41fc-8f87-4bef2644ec94",
   "metadata": {},
   "outputs": [
    {
     "name": "stdout",
     "output_type": "stream",
     "text": [
      "Loaded 9859 posts and 98139 comments\n"
     ]
    }
   ],
   "source": [
    "# read posts and comments: modify file names as needed\n",
    "posts = load_jsonl_to_list(\"r_travel_2024_11_posts.jsonl\")\n",
    "comments = load_jsonl_to_list(\"r_travel_2024_11_comments.jsonl\")\n",
    "print(f\"Loaded {len(posts)} posts and {len(comments)} comments\")"
   ]
  },
  {
   "cell_type": "code",
   "execution_count": 4,
   "id": "fc0b7f2c-bf9d-48ec-a2a8-674635ea4774",
   "metadata": {},
   "outputs": [
    {
     "data": {
      "text/plain": [
       "{'_meta': {'retrieved_2nd_on': 1733054084},\n",
       " 'all_awardings': [],\n",
       " 'allow_live_comments': False,\n",
       " 'approved_at_utc': None,\n",
       " 'approved_by': None,\n",
       " 'archived': False,\n",
       " 'author': '1cmj1',\n",
       " 'author_flair_background_color': None,\n",
       " 'author_flair_css_class': None,\n",
       " 'author_flair_richtext': [],\n",
       " 'author_flair_template_id': None,\n",
       " 'author_flair_text': None,\n",
       " 'author_flair_text_color': None,\n",
       " 'author_flair_type': 'text',\n",
       " 'author_fullname': 't2_3o39eei6',\n",
       " 'author_is_blocked': False,\n",
       " 'author_patreon_flair': False,\n",
       " 'author_premium': False,\n",
       " 'awarders': [],\n",
       " 'banned_at_utc': None,\n",
       " 'banned_by': None,\n",
       " 'can_gild': False,\n",
       " 'can_mod_post': False,\n",
       " 'category': None,\n",
       " 'clicked': False,\n",
       " 'content_categories': None,\n",
       " 'contest_mode': False,\n",
       " 'created': 1732924464,\n",
       " 'created_utc': 1732924464,\n",
       " 'discussion_type': None,\n",
       " 'distinguished': None,\n",
       " 'domain': 'self.travel',\n",
       " 'downs': 0,\n",
       " 'edited': False,\n",
       " 'gilded': 0,\n",
       " 'gildings': {},\n",
       " 'hidden': False,\n",
       " 'hide_score': False,\n",
       " 'id': '1h2zfh4',\n",
       " 'is_created_from_ads_ui': False,\n",
       " 'is_crosspostable': True,\n",
       " 'is_meta': False,\n",
       " 'is_original_content': False,\n",
       " 'is_reddit_media_domain': False,\n",
       " 'is_robot_indexable': True,\n",
       " 'is_self': True,\n",
       " 'is_video': False,\n",
       " 'likes': None,\n",
       " 'link_flair_background_color': '#ff66ac',\n",
       " 'link_flair_css_class': 'question',\n",
       " 'link_flair_richtext': [],\n",
       " 'link_flair_template_id': '63ab44d8-3640-11e3-8665-12313d21c4ee',\n",
       " 'link_flair_text': 'Question',\n",
       " 'link_flair_text_color': 'light',\n",
       " 'link_flair_type': 'text',\n",
       " 'locked': False,\n",
       " 'media': None,\n",
       " 'media_embed': {},\n",
       " 'media_only': False,\n",
       " 'mod_note': None,\n",
       " 'mod_reason_by': None,\n",
       " 'mod_reason_title': None,\n",
       " 'mod_reports': [],\n",
       " 'name': 't3_1h2zfh4',\n",
       " 'no_follow': True,\n",
       " 'num_comments': 2,\n",
       " 'num_crossposts': 0,\n",
       " 'num_reports': None,\n",
       " 'over_18': False,\n",
       " 'permalink': '/r/travel/comments/1h2zfh4/first_time_in_poland_tips_please/',\n",
       " 'pinned': False,\n",
       " 'pwls': 6,\n",
       " 'quarantine': False,\n",
       " 'removal_reason': None,\n",
       " 'removed_by': None,\n",
       " 'removed_by_category': None,\n",
       " 'report_reasons': None,\n",
       " 'retrieved_on': 1732924481,\n",
       " 'saved': False,\n",
       " 'score': 0,\n",
       " 'secure_media': None,\n",
       " 'secure_media_embed': {},\n",
       " 'selftext': \"Wanting to plan a winter break (thinking February) to take in the snowy views of Zakepone- with all the other tourists, I know... Perhaps a few days in Krakow after also.\\n\\nKeen on the thermal baths, visiting the Tetra mountains, tobogganing and anywhere with some staggering views of nature.\\n\\nWe won't be skiing due to a foot injury but any recommendations of short walks with great scenery/ lookouts would be great.\\n\\nHow long do people recommend staying in zakepone?\\nIs it foolish to consider renting a car with the snow? If so, how do we get about for tetra etc?\\n\\nAll information and tips appreciated.\",\n",
       " 'send_replies': True,\n",
       " 'spoiler': False,\n",
       " 'stickied': False,\n",
       " 'subreddit': 'travel',\n",
       " 'subreddit_id': 't5_2qh41',\n",
       " 'subreddit_name_prefixed': 'r/travel',\n",
       " 'subreddit_subscribers': 12339105,\n",
       " 'subreddit_type': 'public',\n",
       " 'suggested_sort': None,\n",
       " 'thumbnail': 'self',\n",
       " 'thumbnail_height': None,\n",
       " 'thumbnail_width': None,\n",
       " 'title': 'First time in Poland- tips please!',\n",
       " 'top_awarded_type': None,\n",
       " 'total_awards_received': 0,\n",
       " 'treatment_tags': [],\n",
       " 'ups': 0,\n",
       " 'upvote_ratio': 0.5,\n",
       " 'url': 'https://www.reddit.com/r/travel/comments/1h2zfh4/first_time_in_poland_tips_please/',\n",
       " 'user_reports': [],\n",
       " 'view_count': None,\n",
       " 'visited': False,\n",
       " 'wls': 6}"
      ]
     },
     "execution_count": 4,
     "metadata": {},
     "output_type": "execute_result"
    }
   ],
   "source": [
    "posts[-1]"
   ]
  },
  {
   "cell_type": "code",
   "execution_count": 5,
   "id": "91c605c5-25e1-4deb-9748-3195b23fe76b",
   "metadata": {},
   "outputs": [
    {
     "data": {
      "text/plain": [
       "{'_meta': {'is_edited': True, 'retrieved_2nd_on': 1733054399},\n",
       " 'all_awardings': [],\n",
       " 'approved_at_utc': None,\n",
       " 'approved_by': None,\n",
       " 'archived': False,\n",
       " 'associated_award': None,\n",
       " 'author': 'Derightful',\n",
       " 'author_flair_background_color': None,\n",
       " 'author_flair_css_class': None,\n",
       " 'author_flair_richtext': [],\n",
       " 'author_flair_template_id': None,\n",
       " 'author_flair_text': None,\n",
       " 'author_flair_text_color': None,\n",
       " 'author_flair_type': 'text',\n",
       " 'author_fullname': 't2_4dn6fl1h',\n",
       " 'author_is_blocked': False,\n",
       " 'author_patreon_flair': False,\n",
       " 'author_premium': False,\n",
       " 'awarders': [],\n",
       " 'banned_at_utc': None,\n",
       " 'banned_by': None,\n",
       " 'body': 'The tickets have been issued to me in the end. All confirmed on the website too. Thanks for the help.',\n",
       " 'can_gild': False,\n",
       " 'can_mod_post': False,\n",
       " 'collapsed': False,\n",
       " 'collapsed_because_crowd_control': None,\n",
       " 'collapsed_reason': None,\n",
       " 'collapsed_reason_code': None,\n",
       " 'comment_type': None,\n",
       " 'controversiality': 0,\n",
       " 'created': 1732924792,\n",
       " 'created_utc': 1732924792,\n",
       " 'distinguished': None,\n",
       " 'downs': 0,\n",
       " 'edited': False,\n",
       " 'gilded': 0,\n",
       " 'gildings': {},\n",
       " 'id': 'lzmyffb',\n",
       " 'is_submitter': False,\n",
       " 'likes': None,\n",
       " 'link_id': 't3_dpwlk2',\n",
       " 'locked': False,\n",
       " 'mod_note': None,\n",
       " 'mod_reason_by': None,\n",
       " 'mod_reason_title': None,\n",
       " 'mod_reports': [],\n",
       " 'name': 't1_lzmyffb',\n",
       " 'no_follow': True,\n",
       " 'num_reports': None,\n",
       " 'parent_id': 't1_lzmy8yo',\n",
       " 'permalink': '/r/travel/comments/dpwlk2/should_i_be_worried_tripcom_not_issuing_flight/lzmyffb/',\n",
       " 'removal_reason': None,\n",
       " 'replies': '',\n",
       " 'report_reasons': None,\n",
       " 'retrieved_on': 1732924811,\n",
       " 'saved': False,\n",
       " 'score': 1,\n",
       " 'score_hidden': False,\n",
       " 'send_replies': True,\n",
       " 'stickied': False,\n",
       " 'subreddit': 'travel',\n",
       " 'subreddit_id': 't5_2qh41',\n",
       " 'subreddit_name_prefixed': 'r/travel',\n",
       " 'subreddit_type': 'public',\n",
       " 'top_awarded_type': None,\n",
       " 'total_awards_received': 0,\n",
       " 'treatment_tags': [],\n",
       " 'unrepliable_reason': None,\n",
       " 'ups': 1,\n",
       " 'user_reports': []}"
      ]
     },
     "execution_count": 5,
     "metadata": {},
     "output_type": "execute_result"
    }
   ],
   "source": [
    "comments[-1]"
   ]
  },
  {
   "cell_type": "code",
   "execution_count": 6,
   "id": "1f097d3f-df2d-48f9-b4fb-cc610b2b3d59",
   "metadata": {},
   "outputs": [
    {
     "data": {
      "text/html": [
       "<div>\n",
       "<style scoped>\n",
       "    .dataframe tbody tr th:only-of-type {\n",
       "        vertical-align: middle;\n",
       "    }\n",
       "\n",
       "    .dataframe tbody tr th {\n",
       "        vertical-align: top;\n",
       "    }\n",
       "\n",
       "    .dataframe thead th {\n",
       "        text-align: right;\n",
       "    }\n",
       "</style>\n",
       "<table border=\"1\" class=\"dataframe\">\n",
       "  <thead>\n",
       "    <tr style=\"text-align: right;\">\n",
       "      <th></th>\n",
       "      <th>text</th>\n",
       "    </tr>\n",
       "  </thead>\n",
       "  <tbody>\n",
       "    <tr>\n",
       "      <th>0</th>\n",
       "      <td>I think you are making this more complicated t...</td>\n",
       "    </tr>\n",
       "    <tr>\n",
       "      <th>1</th>\n",
       "      <td>Singapore fits SOME of what you're looking for...</td>\n",
       "    </tr>\n",
       "    <tr>\n",
       "      <th>2</th>\n",
       "      <td>If you have any questions PM me. I’m an attorn...</td>\n",
       "    </tr>\n",
       "    <tr>\n",
       "      <th>3</th>\n",
       "      <td>insane photos</td>\n",
       "    </tr>\n",
       "    <tr>\n",
       "      <th>4</th>\n",
       "      <td>Unfortunately/luckily I live near luton, so it...</td>\n",
       "    </tr>\n",
       "    <tr>\n",
       "      <th>...</th>\n",
       "      <td>...</td>\n",
       "    </tr>\n",
       "    <tr>\n",
       "      <th>98134</th>\n",
       "      <td>I just kept harassing them until magically I g...</td>\n",
       "    </tr>\n",
       "    <tr>\n",
       "      <th>98135</th>\n",
       "      <td>I don't have an answer, but you may want to wa...</td>\n",
       "    </tr>\n",
       "    <tr>\n",
       "      <th>98136</th>\n",
       "      <td>Banging an Albanian stripper in Scotland</td>\n",
       "    </tr>\n",
       "    <tr>\n",
       "      <th>98137</th>\n",
       "      <td>Please see a Therapists. Your behavior is not ...</td>\n",
       "    </tr>\n",
       "    <tr>\n",
       "      <th>98138</th>\n",
       "      <td>The tickets have been issued to me in the end....</td>\n",
       "    </tr>\n",
       "  </tbody>\n",
       "</table>\n",
       "<p>98139 rows × 1 columns</p>\n",
       "</div>"
      ],
      "text/plain": [
       "                                                    text\n",
       "0      I think you are making this more complicated t...\n",
       "1      Singapore fits SOME of what you're looking for...\n",
       "2      If you have any questions PM me. I’m an attorn...\n",
       "3                                          insane photos\n",
       "4      Unfortunately/luckily I live near luton, so it...\n",
       "...                                                  ...\n",
       "98134  I just kept harassing them until magically I g...\n",
       "98135  I don't have an answer, but you may want to wa...\n",
       "98136          Banging an Albanian stripper in Scotland \n",
       "98137  Please see a Therapists. Your behavior is not ...\n",
       "98138  The tickets have been issued to me in the end....\n",
       "\n",
       "[98139 rows x 1 columns]"
      ]
     },
     "execution_count": 6,
     "metadata": {},
     "output_type": "execute_result"
    }
   ],
   "source": [
    "# comments dataframe\n",
    "df_comments = pd.DataFrame([c['body'] for c in comments], columns = ['text'])\n",
    "df_comments"
   ]
  },
  {
   "cell_type": "code",
   "execution_count": 7,
   "id": "649ca56b-6e62-4257-90bf-c0b3d2a241d3",
   "metadata": {},
   "outputs": [],
   "source": [
    "# checking for matches of a chosen string\n",
    "s = \"refund\"\n",
    "sregex = re.compile(s, re.IGNORECASE)"
   ]
  },
  {
   "cell_type": "code",
   "execution_count": 8,
   "id": "64e7aa4d-f9e9-444a-9a96-3cede15ba335",
   "metadata": {},
   "outputs": [
    {
     "data": {
      "text/plain": [
       "True"
      ]
     },
     "execution_count": 8,
     "metadata": {},
     "output_type": "execute_result"
    }
   ],
   "source": [
    "bool(re.search(sregex, \"Something about a refund$\"))"
   ]
  },
  {
   "cell_type": "code",
   "execution_count": 9,
   "id": "869efb90-98ea-4b6b-af25-4f35e8307acd",
   "metadata": {},
   "outputs": [
    {
     "data": {
      "text/plain": [
       "True"
      ]
     },
     "execution_count": 9,
     "metadata": {},
     "output_type": "execute_result"
    }
   ],
   "source": [
    "bool(re.search(sregex, \"Refund requested something something ignoring case\"))"
   ]
  },
  {
   "cell_type": "code",
   "execution_count": 10,
   "id": "8da901e7-3693-4822-b758-0a57c5e21923",
   "metadata": {},
   "outputs": [
    {
     "data": {
      "text/plain": [
       "False"
      ]
     },
     "execution_count": 10,
     "metadata": {},
     "output_type": "execute_result"
    }
   ],
   "source": [
    "bool(re.search(sregex, \"No mentioning of it something something ignoring case\"))"
   ]
  },
  {
   "cell_type": "code",
   "execution_count": 11,
   "id": "53b5229d-8453-4bac-8804-dd04ea57d667",
   "metadata": {},
   "outputs": [
    {
     "data": {
      "text/plain": [
       "612"
      ]
     },
     "execution_count": 11,
     "metadata": {},
     "output_type": "execute_result"
    }
   ],
   "source": [
    "# total occurrences\n",
    "df_comments['text'].apply(lambda t: bool(re.search(sregex, t))).sum()"
   ]
  },
  {
   "cell_type": "code",
   "execution_count": 12,
   "id": "1a6e0cda-6132-49a2-b56f-c5bb5ed7690f",
   "metadata": {},
   "outputs": [
    {
     "data": {
      "text/plain": [
       "42"
      ]
     },
     "execution_count": 12,
     "metadata": {},
     "output_type": "execute_result"
    }
   ],
   "source": [
    "# number of posts with a chosen string\n",
    "sr = re.compile(\"Turkey\", re.IGNORECASE)\n",
    "df_posts = pd.DataFrame([p['selftext'] for p in posts], columns = ['text'])\n",
    "df_posts['text'].apply(lambda t: bool(re.search(sr, t))).sum()"
   ]
  }
 ],
 "metadata": {
  "kernelspec": {
   "display_name": "Python 3 (ipykernel)",
   "language": "python",
   "name": "python3"
  },
  "language_info": {
   "codemirror_mode": {
    "name": "ipython",
    "version": 3
   },
   "file_extension": ".py",
   "mimetype": "text/x-python",
   "name": "python",
   "nbconvert_exporter": "python",
   "pygments_lexer": "ipython3",
   "version": "3.12.2"
  }
 },
 "nbformat": 4,
 "nbformat_minor": 5
}
