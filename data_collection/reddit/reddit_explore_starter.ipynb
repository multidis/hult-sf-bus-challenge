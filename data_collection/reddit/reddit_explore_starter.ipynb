{
 "cells": [
  {
   "cell_type": "code",
   "execution_count": 1,
   "id": "a0995534-20ca-4147-a505-1a692e064662",
   "metadata": {},
   "outputs": [],
   "source": [
    "## First, you need to collect Reddit content and save to json-file;\n",
    "## also, install required packages:\n",
    "##   pip install flair\n",
    "import json\n",
    "from flair.data import Sentence\n",
    "from flair.models import SequenceTagger\n",
    "from flair.models import TextClassifier"
   ]
  },
  {
   "cell_type": "code",
   "execution_count": 2,
   "id": "fc0b7f2c-bf9d-48ec-a2a8-674635ea4774",
   "metadata": {},
   "outputs": [
    {
     "name": "stdout",
     "output_type": "stream",
     "text": [
      "2024-12-09 04:44:39,652 SequenceTagger predicts: Dictionary with 20 tags: <unk>, O, S-ORG, S-MISC, B-PER, E-PER, S-LOC, B-ORG, E-ORG, I-PER, S-PER, B-MISC, I-MISC, E-MISC, I-ORG, B-LOC, E-LOC, I-LOC, <START>, <STOP>\n"
     ]
    }
   ],
   "source": [
    "# Load pre-trained models\n",
    "ner_model = SequenceTagger.load('ner')\n",
    "classifier = TextClassifier.load('en-sentiment')"
   ]
  },
  {
   "cell_type": "code",
   "execution_count": 3,
   "id": "91c605c5-25e1-4deb-9748-3195b23fe76b",
   "metadata": {},
   "outputs": [
    {
     "name": "stdout",
     "output_type": "stream",
     "text": [
      "Sentence[19]: \"I really like to spend my vacation time in Hawaii; $^%%   specifically Oahu island, Waikiki beach.\"\n"
     ]
    }
   ],
   "source": [
    "sentence = Sentence(\"I really like to spend my vacation time in Hawaii; $^%% \\n specifically Oahu island, Waikiki beach.\", use_tokenizer=True)\n",
    "print(sentence)"
   ]
  },
  {
   "cell_type": "code",
   "execution_count": 4,
   "id": "05506a05-53c9-45f6-b4cd-fa760fb97fd5",
   "metadata": {},
   "outputs": [],
   "source": [
    "ner_model.predict(sentence)"
   ]
  },
  {
   "cell_type": "code",
   "execution_count": 5,
   "id": "d4a0fce3-5e36-4604-a727-6ed31b00342f",
   "metadata": {},
   "outputs": [],
   "source": [
    "classifier.predict(sentence)"
   ]
  },
  {
   "cell_type": "code",
   "execution_count": 6,
   "id": "dfc9c533-5348-4f4b-9fb9-dc6a76680720",
   "metadata": {},
   "outputs": [
    {
     "name": "stdout",
     "output_type": "stream",
     "text": [
      "['Span[9:10]: \"Hawaii\"'/'LOC' (0.9992), 'Span[13:14]: \"Oahu\"'/'LOC' (0.7118), 'Span[16:17]: \"Waikiki\"'/'LOC' (0.8767), 'Sentence[19]: \"I really like to spend my vacation time in Hawaii; $^%%   specifically Oahu island, Waikiki beach.\"'/'POSITIVE' (0.9964)]\n"
     ]
    }
   ],
   "source": [
    "print(sentence.labels)"
   ]
  },
  {
   "cell_type": "code",
   "execution_count": 7,
   "id": "09f5e52a-3f6e-498d-b122-980f36933c60",
   "metadata": {},
   "outputs": [
    {
     "data": {
      "text/plain": [
       "0.9963656663894653"
      ]
     },
     "execution_count": 7,
     "metadata": {},
     "output_type": "execute_result"
    }
   ],
   "source": [
    "sentence.labels[-1].score"
   ]
  },
  {
   "cell_type": "code",
   "execution_count": 8,
   "id": "6c0d14bb-4106-4ee5-94d2-5234b414e27b",
   "metadata": {},
   "outputs": [
    {
     "name": "stdout",
     "output_type": "stream",
     "text": [
      "Span[9:10]: \"Hawaii\" → LOC (0.9992)\n",
      "Span[13:14]: \"Oahu\" → LOC (0.7118)\n",
      "Span[16:17]: \"Waikiki\" → LOC (0.8767)\n"
     ]
    }
   ],
   "source": [
    "for entity in sentence.get_spans('ner'):\n",
    "    print(entity)"
   ]
  },
  {
   "cell_type": "code",
   "execution_count": 9,
   "id": "4247a11b-7509-4e4a-94ab-d8eca3ffe993",
   "metadata": {},
   "outputs": [],
   "source": [
    "# collected reddit posts\n",
    "fjson = 'raw_post_comment_data.json'"
   ]
  },
  {
   "cell_type": "code",
   "execution_count": 10,
   "id": "48bc4d85-a62b-4d18-a211-eca0c1b138c2",
   "metadata": {},
   "outputs": [
    {
     "data": {
      "text/plain": [
       "20"
      ]
     },
     "execution_count": 10,
     "metadata": {},
     "output_type": "execute_result"
    }
   ],
   "source": [
    "# read json file with collected posts and comments\n",
    "# https://docs.python.org/3/tutorial/inputoutput.html#reading-and-writing-files\n",
    "with open(fjson) as file:\n",
    "    data = json.load(file)\n",
    "len(data)"
   ]
  },
  {
   "cell_type": "code",
   "execution_count": 11,
   "id": "95833b99-3e29-406c-8afc-3bd12d752bda",
   "metadata": {},
   "outputs": [
    {
     "data": {
      "text/plain": [
       "{'id': '1gy6wip',\n",
       " 'title': 'Is New Orleans in the USA walkable?',\n",
       " 'text': 'Hi everyone,\\n\\nI was wondering if New Orleans in Louisiana is really walkable. I’m from Europe and I don’t have a car or driving licence. However, I’m already planning my next trip for next year and I haven’t picked up a destination yet. Also, I’ve never been to the US so this would be my first time.\\n\\nThank you everyone for the help',\n",
       " 'comments_lev1': ['Depends. If you’re just staying in the French quarter and around then yes. If you want to get around the city like Audubon park, lower garden district or Bayou St John or Treme it’s not the most walking friendly and in the summer it would be unbearable. There is the street car which can take you to a good amount of places. But Uber and Lyft are also readily available and easy to use',\n",
       "  \"Yes. You'll only need a ride to and from the airport.\",\n",
       "  'You might miss the most New Orleans thing ever. They built a beautiful new terminal at MSY and forgot to build the road that connects to it. By far the coolest city in the US.',\n",
       "  'Yes assuming that you’re planning on sticking to the main tourist areas and aren’t trying to get to the suburbs.',\n",
       "  'First of all, thank you for making your first trip to US somewhere that is not NYC or LA. Nothing wrong with those cities, but there is so much more to our country.\\nThe French Quarter is very walkable, and if it’s your first time in the city you’ll be busy enough there you won’t need to leave.',\n",
       "  'Yes, but also Uber is very cheap. I went last year, and we walked 75% of the time, and then used Uber the rest when it was a bit too far to walk.',\n",
       "  \"New Orleans is very walkable.  It's flat, and if you are careful about your surroundings, you can walk to many parts of the city.  When I stayed by the CBD, I would walk over to the FQ, and down St. Charles Ave or Magazine St to the Garden District.\",\n",
       "  'Very walkable! You might need to Uber between neighborhoods if you want to see some things away from the more populated areas but it’s one of my favorite cities to walk around.',\n",
       "  'Rule of thumb: if a city in the US is popular with Europeans - it’s walkable.  Except for LA, Orlando but even they have walkable parts',\n",
       "  'Yup, definitely.',\n",
       "  \"Walkable if you're staying around the main area. We didn't stay in the French quarters but it was only a 10-15 min walk which is nothing for you Europeans. They have buses but we didn't really use them. Can always rent a bicycle too. Uber is available if you're under a time constraints and need to be somewhere faster. \\n\\nAlso if you plan on seeing a plantation or alligator boat rides. Those companies that do them have shuttles and so pickups at multiple locations around the city.\",\n",
       "  'Yes, this is the reason the city gets so many big sporting events. Everything fun is close to each other.',\n",
       "  'Yes I lived and worked back there in 2006/07. Lived in the Quarter and worked in the CBD. I walked to work and back. It was strange for my colleagues 🤣',\n",
       "  'Yes! When I went I couldn’t afford accommodation in the French Quarter so I stayed in Hollygrove and took the street car into the Quarter. It was probably about a 45 min commute but it is beautiful and there’s a lot of great people watching to do. Once you’re in the French Quarter most everything is in walking distance',\n",
       "  'Public transit in Nola was surprisingly cheap and convenient. Get the Jazz pass and you can ride the bus and tram wherever you need to go.',\n",
       "  'Yea it’s fairly walkable. Boston is another good walkable area',\n",
       "  'Can’t you also use uber?',\n",
       "  \"Be careful taking taxis. I always took Uber because a taxi tried to scam me really hard. \\n\\nIn general yes, it's a good place to walk.\",\n",
       "  'As a tourist, the downtown is indeed walkable or doable by public transport. You can even use a train from the city center to other cities.',\n",
       "  'Just be careful where you go. The murder rate in New Orleans is much higher than what you are used to in Europe. For comparison, the city is less than half the size of Marseille and has about 4 times as many murders.',\n",
       "  'The French Quater is walkable but I will say outside of that transportation will be needed. I stayed in a airbnb away from the \"action\" and the journey to FQ was laborious. Public transportation was lacking imo. I highly recommend staying in the Quarter or as close as you can.\\n\\n\\nI was also surprised at how many sidewalks away from the tourist area were crumbling...horribly.\\xa0',\n",
       "  'Yup, I spent a week there and only used uber to and from the airport. Otherwise walking and public transit worked perfectly. I highly recommend getting the Le Pass app for transit.',\n",
       "  'Yes, extremely, but be cautious.  I absolutely love New Orleans, but it is an area where wandering off in the wrong neighborhood can land you in trouble (the site of my extremely polite mugging) and there are areas you shouldn\\'t be walking in late at night.  Generally the locals will tell you where they are though.  I was there solo one time for a job interview, asked the bartender if it was fine for me to be walking back along Tchopitoulas back to my hostel in the Garden District, and he was like \"um... no.\"\\n\\nBut the main tourist areas are plenty walkable particularly during the day, and the streetcar connects the Garden District to the French Quarter, which is handy.\\n\\nI wouldn\\'t go during Mardi Gras.  It\\'s absolutely insane.  And particularly as you\\'re from Europe, don\\'t going during the summer.  It is like walking on the surface of the sun if the surface of the sun were humid.\\n\\nIt\\'s a fantastic fun city though, and the music comes from everywhere.  It is not uncommon to have buskers on the street with separate people dancing in the street to the buskers.  I\\'m glad it\\'s getting some life back after Katrina, since seeing it mid destruction (my relatives used to live there) was awful.',\n",
       "  'The French Quarter is very walkable. The Garden District is as well and both are connected by a streetcar. I did not go to Frenchman St, but I think that area is walkable too.\\n\\nFantastic city and awesome food everywhere.',\n",
       "  'Bring a gun',\n",
       "  'It is walkable but not always safe. Be prepared to take uber.',\n",
       "  'Very dangerous city. If I were you, I would do some serious research, New Orleans is not safe in this day and age.  For instance. Just had a deadly quadruple shooting and that is just one of many. Consider going someplace else!\\n\\n  \\n[New Orleans French Quarter shooting suspect wore ankle monitor](https://www.wdsu.com/article/french-quarter-shooting/62981193)'],\n",
       " 'comments_lev2': ['Thank you! How is also the public transportation in New Orleans?',\n",
       "  'Thank you! Also, how many days do you think I need to visit the city?',\n",
       "  \"Isn't there a bus from the airport to downtown?\",\n",
       "  'Really, no car needed? I guess it is assumed you are staying in the downtown?',\n",
       "  'Are the terminals also connected by a shuttle?',\n",
       "  'Thank you! I was also thinking to join Mardi Gras if I have the chance, hopefully it will be in any tourist area',\n",
       "  'Thank you!',\n",
       "  'Walk in Uber out is always my motto.',\n",
       "  'From where I from I don’t know people who have visited it because they were going in bigger cities such as New York. In my case, New Orleans is really known also because of the media',\n",
       "  'One suspects the weather has a lot to do with it',\n",
       "  'For my style of travelling I also like walking through the streets instead of taking a cab every five minutes. I enjoy travels more when I can wonder through the streets',\n",
       "  'This is correct.',\n",
       "  'Completely blown out of proportion. Check out r/asknola for real insight regarding this concern.']}"
      ]
     },
     "execution_count": 11,
     "metadata": {},
     "output_type": "execute_result"
    }
   ],
   "source": [
    "# data record example\n",
    "data[4]"
   ]
  },
  {
   "cell_type": "code",
   "execution_count": 12,
   "id": "2e4f37a7-5f0e-4362-a6af-4f22f5bb95ac",
   "metadata": {},
   "outputs": [
    {
     "data": {
      "text/plain": [
       "'Hi everyone,\\n\\nI was wondering if New Orleans in Louisiana is really walkable. I’m from Europe and I don’t have a car or driving licence. However, I’m already planning my next trip for next year and I haven’t picked up a destination yet. Also, I’ve never been to the US so this would be my first time.\\n\\nThank you everyone for the help'"
      ]
     },
     "execution_count": 12,
     "metadata": {},
     "output_type": "execute_result"
    }
   ],
   "source": [
    "data[4]['text']"
   ]
  },
  {
   "cell_type": "code",
   "execution_count": 13,
   "id": "9d321e7e-8159-47a5-afaa-edeeafca2f3d",
   "metadata": {},
   "outputs": [
    {
     "name": "stdout",
     "output_type": "stream",
     "text": [
      "Sentence[75]: \"Hi everyone,  I was wondering if New Orleans in Louisiana is really walkable. I’m from Europe and I don’t have a car or driving licence. However, I’m already planning my next trip for next year and I haven’t picked up a destination yet. Also, I’ve never been to the US so this would be my first time.  Thank you everyone for the help\"\n"
     ]
    }
   ],
   "source": [
    "sentence0 = Sentence(data[4]['text'], use_tokenizer=True)\n",
    "print(sentence0)"
   ]
  },
  {
   "cell_type": "code",
   "execution_count": 14,
   "id": "cad9c683-951f-4974-a233-e3ec22f5b318",
   "metadata": {},
   "outputs": [
    {
     "name": "stdout",
     "output_type": "stream",
     "text": [
      "Span[7:9]: \"New Orleans\" → LOC (0.9890)\n",
      "Span[10:11]: \"Louisiana\" → LOC (0.9993)\n",
      "Span[18:19]: \"Europe\" → LOC (0.9997)\n",
      "Span[60:61]: \"US\" → LOC (0.9883)\n"
     ]
    }
   ],
   "source": [
    "ner_model.predict(sentence0)\n",
    "for entity in sentence0.get_spans('ner'):\n",
    "    print(entity)"
   ]
  }
 ],
 "metadata": {
  "kernelspec": {
   "display_name": "Python 3 (ipykernel)",
   "language": "python",
   "name": "python3"
  },
  "language_info": {
   "codemirror_mode": {
    "name": "ipython",
    "version": 3
   },
   "file_extension": ".py",
   "mimetype": "text/x-python",
   "name": "python",
   "nbconvert_exporter": "python",
   "pygments_lexer": "ipython3",
   "version": "3.12.2"
  }
 },
 "nbformat": 4,
 "nbformat_minor": 5
}
